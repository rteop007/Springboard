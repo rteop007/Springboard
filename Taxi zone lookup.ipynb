{
 "cells": [
  {
   "cell_type": "code",
   "execution_count": 37,
   "id": "3ac176e5-6184-4163-97a6-d22d4cdda7b6",
   "metadata": {},
   "outputs": [
    {
     "ename": "ModuleNotFoundError",
     "evalue": "No module named 'ydata_profiling'",
     "output_type": "error",
     "traceback": [
      "\u001b[0;31m---------------------------------------------------------------------------\u001b[0m",
      "\u001b[0;31mModuleNotFoundError\u001b[0m                       Traceback (most recent call last)",
      "Cell \u001b[0;32mIn[37], line 3\u001b[0m\n\u001b[1;32m      1\u001b[0m \u001b[38;5;28;01mimport\u001b[39;00m \u001b[38;5;21;01mos\u001b[39;00m\n\u001b[1;32m      2\u001b[0m \u001b[38;5;28;01mimport\u001b[39;00m \u001b[38;5;21;01mpandas\u001b[39;00m \u001b[38;5;28;01mas\u001b[39;00m \u001b[38;5;21;01mpd\u001b[39;00m\n\u001b[0;32m----> 3\u001b[0m \u001b[38;5;28;01mfrom\u001b[39;00m \u001b[38;5;21;01mydata_profiling\u001b[39;00m \u001b[38;5;28;01mimport\u001b[39;00m ProfileReport\n\u001b[1;32m      6\u001b[0m dataset \u001b[38;5;241m=\u001b[39m pd\u001b[38;5;241m.\u001b[39mread_csv(\u001b[38;5;124m\"\u001b[39m\u001b[38;5;124mtaxi_zone_lookup .csv\u001b[39m\u001b[38;5;124m\"\u001b[39m)\n\u001b[1;32m      7\u001b[0m profile \u001b[38;5;241m=\u001b[39m ProfileReport(dataset, title\u001b[38;5;241m=\u001b[39m\u001b[38;5;124m\"\u001b[39m\u001b[38;5;124mProfiling Report\u001b[39m\u001b[38;5;124m\"\u001b[39m)\n",
      "\u001b[0;31mModuleNotFoundError\u001b[0m: No module named 'ydata_profiling'"
     ]
    }
   ],
   "source": [
    "import os\n",
    "import pandas as pd\n",
    "from ydata_profiling import ProfileReport\n",
    "\n",
    "\n",
    "dataset = pd.read_csv(\"taxi_zone_lookup .csv\")\n",
    "profile = ProfileReport(dataset, title=\"Profiling Report\")\n"
   ]
  },
  {
   "cell_type": "code",
   "execution_count": 27,
   "id": "b979715c-80cf-4fcb-8ad4-5cf964c15346",
   "metadata": {},
   "outputs": [],
   "source": [
    "dataset = pd.read_csv(\"taxi_zone_lookup .csv\")"
   ]
  },
  {
   "cell_type": "code",
   "execution_count": 29,
   "id": "9e1742bd-63f9-428b-8f41-fbab37927516",
   "metadata": {},
   "outputs": [
    {
     "data": {
      "text/html": [
       "<div>\n",
       "<style scoped>\n",
       "    .dataframe tbody tr th:only-of-type {\n",
       "        vertical-align: middle;\n",
       "    }\n",
       "\n",
       "    .dataframe tbody tr th {\n",
       "        vertical-align: top;\n",
       "    }\n",
       "\n",
       "    .dataframe thead th {\n",
       "        text-align: right;\n",
       "    }\n",
       "</style>\n",
       "<table border=\"1\" class=\"dataframe\">\n",
       "  <thead>\n",
       "    <tr style=\"text-align: right;\">\n",
       "      <th></th>\n",
       "      <th>LocationID</th>\n",
       "      <th>Borough</th>\n",
       "      <th>Zone</th>\n",
       "      <th>service_zone</th>\n",
       "    </tr>\n",
       "  </thead>\n",
       "  <tbody>\n",
       "    <tr>\n",
       "      <th>0</th>\n",
       "      <td>1</td>\n",
       "      <td>EWR</td>\n",
       "      <td>Newark Airport</td>\n",
       "      <td>EWR</td>\n",
       "    </tr>\n",
       "    <tr>\n",
       "      <th>1</th>\n",
       "      <td>2</td>\n",
       "      <td>Queens</td>\n",
       "      <td>Jamaica Bay</td>\n",
       "      <td>Boro Zone</td>\n",
       "    </tr>\n",
       "    <tr>\n",
       "      <th>2</th>\n",
       "      <td>3</td>\n",
       "      <td>Bronx</td>\n",
       "      <td>Allerton/Pelham Gardens</td>\n",
       "      <td>Boro Zone</td>\n",
       "    </tr>\n",
       "    <tr>\n",
       "      <th>3</th>\n",
       "      <td>4</td>\n",
       "      <td>Manhattan</td>\n",
       "      <td>Alphabet City</td>\n",
       "      <td>Yellow Zone</td>\n",
       "    </tr>\n",
       "    <tr>\n",
       "      <th>4</th>\n",
       "      <td>5</td>\n",
       "      <td>Staten Island</td>\n",
       "      <td>Arden Heights</td>\n",
       "      <td>Boro Zone</td>\n",
       "    </tr>\n",
       "  </tbody>\n",
       "</table>\n",
       "</div>"
      ],
      "text/plain": [
       "   LocationID        Borough                     Zone service_zone\n",
       "0           1            EWR           Newark Airport          EWR\n",
       "1           2         Queens              Jamaica Bay    Boro Zone\n",
       "2           3          Bronx  Allerton/Pelham Gardens    Boro Zone\n",
       "3           4      Manhattan            Alphabet City  Yellow Zone\n",
       "4           5  Staten Island            Arden Heights    Boro Zone"
      ]
     },
     "execution_count": 29,
     "metadata": {},
     "output_type": "execute_result"
    }
   ],
   "source": [
    "dataset.head()"
   ]
  },
  {
   "cell_type": "code",
   "execution_count": 31,
   "id": "48ea18a7-fefa-43f8-b9cb-54c2f04187cf",
   "metadata": {},
   "outputs": [
    {
     "data": {
      "text/html": [
       "<div>\n",
       "<style scoped>\n",
       "    .dataframe tbody tr th:only-of-type {\n",
       "        vertical-align: middle;\n",
       "    }\n",
       "\n",
       "    .dataframe tbody tr th {\n",
       "        vertical-align: top;\n",
       "    }\n",
       "\n",
       "    .dataframe thead th {\n",
       "        text-align: right;\n",
       "    }\n",
       "</style>\n",
       "<table border=\"1\" class=\"dataframe\">\n",
       "  <thead>\n",
       "    <tr style=\"text-align: right;\">\n",
       "      <th></th>\n",
       "      <th>LocationID</th>\n",
       "      <th>Borough</th>\n",
       "      <th>Zone</th>\n",
       "      <th>service_zone</th>\n",
       "    </tr>\n",
       "  </thead>\n",
       "  <tbody>\n",
       "    <tr>\n",
       "      <th>260</th>\n",
       "      <td>261</td>\n",
       "      <td>Manhattan</td>\n",
       "      <td>World Trade Center</td>\n",
       "      <td>Yellow Zone</td>\n",
       "    </tr>\n",
       "    <tr>\n",
       "      <th>261</th>\n",
       "      <td>262</td>\n",
       "      <td>Manhattan</td>\n",
       "      <td>Yorkville East</td>\n",
       "      <td>Yellow Zone</td>\n",
       "    </tr>\n",
       "    <tr>\n",
       "      <th>262</th>\n",
       "      <td>263</td>\n",
       "      <td>Manhattan</td>\n",
       "      <td>Yorkville West</td>\n",
       "      <td>Yellow Zone</td>\n",
       "    </tr>\n",
       "    <tr>\n",
       "      <th>263</th>\n",
       "      <td>264</td>\n",
       "      <td>Unknown</td>\n",
       "      <td>NV</td>\n",
       "      <td>NaN</td>\n",
       "    </tr>\n",
       "    <tr>\n",
       "      <th>264</th>\n",
       "      <td>265</td>\n",
       "      <td>Unknown</td>\n",
       "      <td>NaN</td>\n",
       "      <td>NaN</td>\n",
       "    </tr>\n",
       "  </tbody>\n",
       "</table>\n",
       "</div>"
      ],
      "text/plain": [
       "     LocationID    Borough                Zone service_zone\n",
       "260         261  Manhattan  World Trade Center  Yellow Zone\n",
       "261         262  Manhattan      Yorkville East  Yellow Zone\n",
       "262         263  Manhattan      Yorkville West  Yellow Zone\n",
       "263         264    Unknown                  NV          NaN\n",
       "264         265    Unknown                 NaN          NaN"
      ]
     },
     "execution_count": 31,
     "metadata": {},
     "output_type": "execute_result"
    }
   ],
   "source": [
    "dataset.tail()"
   ]
  },
  {
   "cell_type": "code",
   "execution_count": 24,
   "id": "992b8837-d9c0-4132-b634-0d9061095a0f",
   "metadata": {},
   "outputs": [
    {
     "name": "stdout",
     "output_type": "stream",
     "text": [
      "<class 'pandas.core.frame.DataFrame'>\n",
      "RangeIndex: 68211 entries, 0 to 68210\n",
      "Data columns (total 20 columns):\n",
      " #   Column                 Non-Null Count  Dtype  \n",
      "---  ------                 --------------  -----  \n",
      " 0   VendorID               68211 non-null  int64  \n",
      " 1   lpep_pickup_datetime   68211 non-null  object \n",
      " 2   lpep_dropoff_datetime  68211 non-null  object \n",
      " 3   store_and_fwd_flag     63887 non-null  object \n",
      " 4   RatecodeID             63887 non-null  float64\n",
      " 5   PULocationID           68211 non-null  int64  \n",
      " 6   DOLocationID           68211 non-null  int64  \n",
      " 7   passenger_count        63887 non-null  float64\n",
      " 8   trip_distance          68211 non-null  float64\n",
      " 9   fare_amount            68211 non-null  float64\n",
      " 10  extra                  68211 non-null  float64\n",
      " 11  mta_tax                68211 non-null  float64\n",
      " 12  tip_amount             68211 non-null  float64\n",
      " 13  tolls_amount           68211 non-null  float64\n",
      " 14  ehail_fee              0 non-null      float64\n",
      " 15  improvement_surcharge  68211 non-null  float64\n",
      " 16  total_amount           68211 non-null  float64\n",
      " 17  payment_type           63887 non-null  float64\n",
      " 18  trip_type              63877 non-null  float64\n",
      " 19  congestion_surcharge   63887 non-null  float64\n",
      "dtypes: float64(14), int64(3), object(3)\n",
      "memory usage: 10.4+ MB\n"
     ]
    }
   ],
   "source": [
    "dataset.info()"
   ]
  },
  {
   "cell_type": "code",
   "execution_count": 26,
   "id": "71c95122-aad2-4c17-bc9e-d78f252f156d",
   "metadata": {},
   "outputs": [
    {
     "data": {
      "text/plain": [
       "VendorID                     0\n",
       "lpep_pickup_datetime         0\n",
       "lpep_dropoff_datetime        0\n",
       "store_and_fwd_flag        4324\n",
       "RatecodeID                4324\n",
       "PULocationID                 0\n",
       "DOLocationID                 0\n",
       "passenger_count           4324\n",
       "trip_distance                0\n",
       "fare_amount                  0\n",
       "extra                        0\n",
       "mta_tax                      0\n",
       "tip_amount                   0\n",
       "tolls_amount                 0\n",
       "ehail_fee                68211\n",
       "improvement_surcharge        0\n",
       "total_amount                 0\n",
       "payment_type              4324\n",
       "trip_type                 4334\n",
       "congestion_surcharge      4324\n",
       "dtype: int64"
      ]
     },
     "execution_count": 26,
     "metadata": {},
     "output_type": "execute_result"
    }
   ],
   "source": [
    "dataset.isnull().sum()"
   ]
  },
  {
   "cell_type": "code",
   "execution_count": 34,
   "id": "b0cac915-c3d7-4989-bd4a-2e208e42e86c",
   "metadata": {},
   "outputs": [
    {
     "data": {
      "text/plain": [
       "trip_distance\n",
       "0.00       3350\n",
       "1.40        639\n",
       "1.30        575\n",
       "1.20        531\n",
       "1.50        491\n",
       "           ... \n",
       "18.00         1\n",
       "35.36         1\n",
       "15.54         1\n",
       "16.77         1\n",
       "4070.82       1\n",
       "Name: count, Length: 1870, dtype: int64"
      ]
     },
     "execution_count": 34,
     "metadata": {},
     "output_type": "execute_result"
    }
   ],
   "source": [
    "dataset['trip_distance'].value_counts()"
   ]
  },
  {
   "cell_type": "code",
   "execution_count": 36,
   "id": "3c2c4d1d-a0c4-4660-b447-4de65f737b82",
   "metadata": {},
   "outputs": [
    {
     "data": {
      "text/plain": [
       "fare_amount\n",
       "10.00    3234\n",
       "8.60     3171\n",
       "9.30     3003\n",
       "7.90     2902\n",
       "10.70    2811\n",
       "         ... \n",
       "23.14       1\n",
       "35.71       1\n",
       "21.83       1\n",
       "17.81       1\n",
       "4.41        1\n",
       "Name: count, Length: 2553, dtype: int64"
      ]
     },
     "execution_count": 36,
     "metadata": {},
     "output_type": "execute_result"
    }
   ],
   "source": [
    "dataset['fare_amount'].value_counts()"
   ]
  },
  {
   "cell_type": "code",
   "execution_count": 52,
   "id": "22626b77-dfde-4b76-8977-eecab7592568",
   "metadata": {},
   "outputs": [
    {
     "data": {
      "text/html": [
       "<div>\n",
       "<style scoped>\n",
       "    .dataframe tbody tr th:only-of-type {\n",
       "        vertical-align: middle;\n",
       "    }\n",
       "\n",
       "    .dataframe tbody tr th {\n",
       "        vertical-align: top;\n",
       "    }\n",
       "\n",
       "    .dataframe thead th {\n",
       "        text-align: right;\n",
       "    }\n",
       "</style>\n",
       "<table border=\"1\" class=\"dataframe\">\n",
       "  <thead>\n",
       "    <tr style=\"text-align: right;\">\n",
       "      <th></th>\n",
       "      <th>lpep_pickup_datetime</th>\n",
       "      <th>lpep_dropoff_datetime</th>\n",
       "      <th>store_and_fwd_flag</th>\n",
       "    </tr>\n",
       "  </thead>\n",
       "  <tbody>\n",
       "    <tr>\n",
       "      <th>0</th>\n",
       "      <td>2023-01-01 00:26:10</td>\n",
       "      <td>2023-01-01 00:37:11</td>\n",
       "      <td>N</td>\n",
       "    </tr>\n",
       "    <tr>\n",
       "      <th>1</th>\n",
       "      <td>2023-01-01 00:51:03</td>\n",
       "      <td>2023-01-01 00:57:49</td>\n",
       "      <td>N</td>\n",
       "    </tr>\n",
       "    <tr>\n",
       "      <th>2</th>\n",
       "      <td>2023-01-01 00:35:12</td>\n",
       "      <td>2023-01-01 00:41:32</td>\n",
       "      <td>N</td>\n",
       "    </tr>\n",
       "    <tr>\n",
       "      <th>3</th>\n",
       "      <td>2023-01-01 00:13:14</td>\n",
       "      <td>2023-01-01 00:19:03</td>\n",
       "      <td>N</td>\n",
       "    </tr>\n",
       "    <tr>\n",
       "      <th>4</th>\n",
       "      <td>2023-01-01 00:33:04</td>\n",
       "      <td>2023-01-01 00:39:02</td>\n",
       "      <td>N</td>\n",
       "    </tr>\n",
       "    <tr>\n",
       "      <th>...</th>\n",
       "      <td>...</td>\n",
       "      <td>...</td>\n",
       "      <td>...</td>\n",
       "    </tr>\n",
       "    <tr>\n",
       "      <th>68206</th>\n",
       "      <td>2023-01-31 22:29:00</td>\n",
       "      <td>2023-01-31 22:42:00</td>\n",
       "      <td>NaN</td>\n",
       "    </tr>\n",
       "    <tr>\n",
       "      <th>68207</th>\n",
       "      <td>2023-01-31 22:40:00</td>\n",
       "      <td>2023-01-31 22:48:00</td>\n",
       "      <td>NaN</td>\n",
       "    </tr>\n",
       "    <tr>\n",
       "      <th>68208</th>\n",
       "      <td>2023-01-31 23:46:00</td>\n",
       "      <td>2023-02-01 00:02:00</td>\n",
       "      <td>NaN</td>\n",
       "    </tr>\n",
       "    <tr>\n",
       "      <th>68209</th>\n",
       "      <td>2023-01-31 23:01:00</td>\n",
       "      <td>2023-01-31 23:19:00</td>\n",
       "      <td>NaN</td>\n",
       "    </tr>\n",
       "    <tr>\n",
       "      <th>68210</th>\n",
       "      <td>2023-01-31 23:51:00</td>\n",
       "      <td>2023-02-01 00:07:00</td>\n",
       "      <td>NaN</td>\n",
       "    </tr>\n",
       "  </tbody>\n",
       "</table>\n",
       "<p>68211 rows × 3 columns</p>\n",
       "</div>"
      ],
      "text/plain": [
       "      lpep_pickup_datetime lpep_dropoff_datetime store_and_fwd_flag\n",
       "0      2023-01-01 00:26:10   2023-01-01 00:37:11                  N\n",
       "1      2023-01-01 00:51:03   2023-01-01 00:57:49                  N\n",
       "2      2023-01-01 00:35:12   2023-01-01 00:41:32                  N\n",
       "3      2023-01-01 00:13:14   2023-01-01 00:19:03                  N\n",
       "4      2023-01-01 00:33:04   2023-01-01 00:39:02                  N\n",
       "...                    ...                   ...                ...\n",
       "68206  2023-01-31 22:29:00   2023-01-31 22:42:00                NaN\n",
       "68207  2023-01-31 22:40:00   2023-01-31 22:48:00                NaN\n",
       "68208  2023-01-31 23:46:00   2023-02-01 00:02:00                NaN\n",
       "68209  2023-01-31 23:01:00   2023-01-31 23:19:00                NaN\n",
       "68210  2023-01-31 23:51:00   2023-02-01 00:07:00                NaN\n",
       "\n",
       "[68211 rows x 3 columns]"
      ]
     },
     "execution_count": 52,
     "metadata": {},
     "output_type": "execute_result"
    }
   ],
   "source": [
    "dataset.select_dtypes(object)"
   ]
  },
  {
   "cell_type": "code",
   "execution_count": null,
   "id": "8087cac7-a9c5-4233-bb18-406499c3ad89",
   "metadata": {},
   "outputs": [],
   "source": []
  }
 ],
 "metadata": {
  "kernelspec": {
   "display_name": "Python 3 (ipykernel)",
   "language": "python",
   "name": "python3"
  },
  "language_info": {
   "codemirror_mode": {
    "name": "ipython",
    "version": 3
   },
   "file_extension": ".py",
   "mimetype": "text/x-python",
   "name": "python",
   "nbconvert_exporter": "python",
   "pygments_lexer": "ipython3",
   "version": "3.11.7"
  }
 },
 "nbformat": 4,
 "nbformat_minor": 5
}
